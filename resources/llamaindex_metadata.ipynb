{
 "cells": [
  {
   "cell_type": "code",
   "execution_count": 1,
   "metadata": {
    "collapsed": true
   },
   "outputs": [],
   "source": [
    "import nest_asyncio\n",
    "from playground_secret_key import SECRET_KEY\n",
    "\n",
    "nest_asyncio.apply()\n",
    "\n",
    "import os\n",
    "import openai\n",
    "\n",
    "os.environ['OPENAI_API_KEY'] = SECRET_KEY"
   ]
  },
  {
   "cell_type": "code",
   "execution_count": 2,
   "outputs": [],
   "source": [
    "from llama_index.llms.openai import OpenAI\n",
    "from llama_index.core.schema import MetadataMode"
   ],
   "metadata": {
    "collapsed": false
   }
  },
  {
   "cell_type": "code",
   "execution_count": 3,
   "outputs": [],
   "source": [
    "llm = OpenAI(temperature=0.1, model=\"gpt-3.5-turbo\", max_tokens=512)"
   ],
   "metadata": {
    "collapsed": false
   }
  },
  {
   "cell_type": "code",
   "execution_count": 4,
   "outputs": [],
   "source": [
    "from llama_index.core.extractors import(\n",
    "    SummaryExtractor,\n",
    "    QuestionsAnsweredExtractor,\n",
    "    TitleExtractor,\n",
    "    KeywordExtractor,\n",
    "    BaseExtractor,\n",
    ")\n",
    "\n",
    "from llama_index.extractors.entity import EntityExtractor # takes a long time\n",
    "from llama_index.core.node_parser import TokenTextSplitter\n",
    "\n",
    "# doesn't work and there is no documentation\n",
    "# class AuthorExtractor(BaseExtractor):\n",
    "#     def extract(self, nodes):\n",
    "#         metadata_list = [\n",
    "#             {'author' : (\n",
    "#                 node.metadata.get('author',default='Unknown')\n",
    "#             +\n",
    "#             '\\n'\n",
    "#             +\n",
    "#             node.metadata['excerpt_keywords'])\n",
    "#             }\n",
    "#         for node in nodes\n",
    "#         ]\n",
    "#         return metadata_list\n",
    "#\n",
    "#     def aextract(self, nodes):\n",
    "#         pass"
   ],
   "metadata": {
    "collapsed": false
   }
  },
  {
   "cell_type": "code",
   "execution_count": 5,
   "outputs": [],
   "source": [
    "text_splitter = TokenTextSplitter(\n",
    "    separator=\" \", chunk_size=512, chunk_overlap=128\n",
    ")\n",
    "\n",
    "\n",
    "extractors = [TitleExtractor(nodes=5, llm=llm),\n",
    "QuestionsAnsweredExtractor(questions=3, llm=llm),\n",
    "# SummaryExtractor(llm=llm), # not needed here, makes longer summary than slide\n",
    "KeywordExtractor(llm=llm)]\n",
    "\n",
    "transformations = [text_splitter] + extractors"
   ],
   "metadata": {
    "collapsed": false
   }
  },
  {
   "cell_type": "code",
   "execution_count": 6,
   "outputs": [],
   "source": [
    "from llama_index.core import SimpleDirectoryReader"
   ],
   "metadata": {
    "collapsed": false
   }
  },
  {
   "cell_type": "code",
   "execution_count": 7,
   "outputs": [],
   "source": [
    "docs = SimpleDirectoryReader(input_files=['../data/Annotated Handouts-20240310/full_chapters_annotated/01_basics_annotated.pdf']).load_data()"
   ],
   "metadata": {
    "collapsed": false
   }
  },
  {
   "cell_type": "code",
   "execution_count": 8,
   "outputs": [
    {
     "data": {
      "text/plain": "list"
     },
     "execution_count": 8,
     "metadata": {},
     "output_type": "execute_result"
    }
   ],
   "source": [
    "type(docs)"
   ],
   "metadata": {
    "collapsed": false
   }
  },
  {
   "cell_type": "code",
   "execution_count": 9,
   "outputs": [
    {
     "data": {
      "text/plain": "'OverﬁttingIssue with evaluation on training dataIf we allow ourselves to build verycomplex models,w ec a na l w a y sb eas accurate as we like on the training setThe only measure of whether an algorithm will perform well on newdata is theevaluation on the test setOverﬁttingWe expect simple models to generalize better to new data. Therefore,we always want to ﬁnd the simplest model.Building a model that is too complex for the amount of informationwe have, is calledoverﬁttingMichela Papandrea (SUPSI)Introduction to Supervised Learning21 / 25'"
     },
     "execution_count": 9,
     "metadata": {},
     "output_type": "execute_result"
    }
   ],
   "source": [
    "docs[20].text # slide 21"
   ],
   "metadata": {
    "collapsed": false
   }
  },
  {
   "cell_type": "code",
   "execution_count": 10,
   "outputs": [],
   "source": [
    "docs_front_page = docs[:2]\n",
    "docs_content = docs[2:]\n",
    "# don't know why\n",
    "docs = docs_front_page + docs_content"
   ],
   "metadata": {
    "collapsed": false
   }
  },
  {
   "cell_type": "code",
   "execution_count": 17,
   "outputs": [
    {
     "data": {
      "text/plain": "Document(id_='0f37775d-1265-4ae1-8072-2f513f492fb4', embedding=None, metadata={'page_label': '1', 'file_name': '01_basics_annotated.pdf', 'file_path': '..\\\\data\\\\Annotated Handouts-20240310\\\\full_chapters_annotated\\\\01_basics_annotated.pdf', 'file_type': 'application/pdf', 'file_size': 1398475, 'creation_date': '2023-11-02', 'last_modified_date': '2024-03-10'}, excluded_embed_metadata_keys=['file_name', 'file_type', 'file_size', 'creation_date', 'last_modified_date', 'last_accessed_date'], excluded_llm_metadata_keys=['file_name', 'file_type', 'file_size', 'creation_date', 'last_modified_date', 'last_accessed_date'], relationships={}, text='Introduction to Supervised LearningMichela Papandreamichela.papandrea@supsi.chSupervised LearningBachelor of Data Science and Artiﬁcial IntelligenceUniversity of Applied Sciences and Arts of Southern Switzerland\\nMichela Papandrea (SUPSI)Introduction to Supervised Learning1/2 5 ', start_char_idx=None, end_char_idx=None, text_template='{metadata_str}\\n\\n{content}', metadata_template='{key}: {value}', metadata_seperator='\\n')"
     },
     "execution_count": 17,
     "metadata": {},
     "output_type": "execute_result"
    }
   ],
   "source": [
    "docs[0]"
   ],
   "metadata": {
    "collapsed": false
   }
  },
  {
   "cell_type": "code",
   "execution_count": 11,
   "outputs": [
    {
     "name": "stderr",
     "output_type": "stream",
     "text": [
      "100%|██████████| 1/1 [00:01<00:00,  1.53s/it]\n",
      "100%|██████████| 1/1 [00:00<00:00,  1.19it/s]\n",
      "100%|██████████| 1/1 [00:00<00:00,  1.63it/s]\n",
      "100%|██████████| 1/1 [00:00<00:00,  1.94it/s]\n",
      "100%|██████████| 1/1 [00:00<00:00,  1.36it/s]\n",
      "100%|██████████| 1/1 [00:00<00:00,  1.96it/s]\n",
      "100%|██████████| 1/1 [00:00<00:00,  1.43it/s]\n",
      "100%|██████████| 1/1 [00:00<00:00,  1.75it/s]\n",
      "100%|██████████| 1/1 [00:00<00:00,  2.66it/s]\n",
      "100%|██████████| 1/1 [00:00<00:00,  1.91it/s]\n",
      "100%|██████████| 1/1 [00:00<00:00,  2.18it/s]\n",
      "100%|██████████| 1/1 [00:00<00:00,  1.53it/s]\n",
      "100%|██████████| 1/1 [00:00<00:00,  1.45it/s]\n",
      "100%|██████████| 1/1 [00:00<00:00,  1.61it/s]\n",
      "100%|██████████| 1/1 [00:00<00:00,  2.08it/s]\n",
      "100%|██████████| 1/1 [00:00<00:00,  2.14it/s]\n",
      "100%|██████████| 1/1 [00:00<00:00,  2.62it/s]\n",
      "100%|██████████| 1/1 [00:00<00:00,  1.40it/s]\n",
      "100%|██████████| 1/1 [00:00<00:00,  1.64it/s]\n",
      "100%|██████████| 1/1 [00:00<00:00,  1.41it/s]\n",
      "100%|██████████| 1/1 [00:00<00:00,  1.93it/s]\n",
      "100%|██████████| 1/1 [00:00<00:00,  1.42it/s]\n",
      "100%|██████████| 1/1 [00:00<00:00,  1.56it/s]\n",
      "100%|██████████| 1/1 [00:00<00:00,  1.64it/s]\n",
      "100%|██████████| 1/1 [00:00<00:00,  1.96it/s]\n",
      "100%|██████████| 25/25 [00:10<00:00,  2.34it/s]\n",
      "100%|██████████| 25/25 [00:05<00:00,  4.86it/s]\n"
     ]
    }
   ],
   "source": [
    "from llama_index.core.ingestion import IngestionPipeline\n",
    "\n",
    "# metadata pipeline\n",
    "ing_pipeline = IngestionPipeline(transformations=transformations)\n",
    "\n",
    "docs_nodes = ing_pipeline.run(documents=docs)"
   ],
   "metadata": {
    "collapsed": false
   }
  },
  {
   "cell_type": "code",
   "execution_count": 12,
   "outputs": [
    {
     "data": {
      "text/plain": "{'page_label': '3',\n 'file_name': '01_basics_annotated.pdf',\n 'file_path': '..\\\\data\\\\Annotated Handouts-20240310\\\\full_chapters_annotated\\\\01_basics_annotated.pdf',\n 'file_type': 'application/pdf',\n 'file_size': 1398475,\n 'creation_date': '2023-11-02',\n 'last_modified_date': '2024-03-10',\n 'document_title': 'The Power and Ubiquity of Machine Learning in Modern Technology: A Comprehensive Overview',\n 'questions_this_excerpt_can_answer': '1. How is machine learning defined and what disciplines does it intersect with?\\n2. What are some examples of ubiquitous machine learning applications in modern technology?\\n3. Who is Michela Papandrea and what topic is she introducing in relation to supervised learning?',\n 'excerpt_keywords': 'Machine Learning, Statistics, Artificial Intelligence, Predictive Analytics, Supervised Learning'}"
     },
     "execution_count": 12,
     "metadata": {},
     "output_type": "execute_result"
    }
   ],
   "source": [
    "docs_nodes[2].metadata"
   ],
   "metadata": {
    "collapsed": false
   }
  },
  {
   "cell_type": "markdown",
   "source": [],
   "metadata": {
    "collapsed": false
   }
  },
  {
   "cell_type": "code",
   "execution_count": null,
   "outputs": [],
   "source": [
    "'8bfaa646-4b3a-4fb7-bdc8-e69c55aae402'"
   ],
   "metadata": {
    "collapsed": false
   }
  },
  {
   "cell_type": "code",
   "execution_count": 45,
   "outputs": [
    {
     "data": {
      "text/plain": "'e1dc1ce2-924a-4fbb-807d-ad8ad2e6159f'"
     },
     "execution_count": 45,
     "metadata": {},
     "output_type": "execute_result"
    }
   ],
   "source": [
    "docs_nodes[0].id_"
   ],
   "metadata": {
    "collapsed": false
   }
  },
  {
   "cell_type": "code",
   "execution_count": null,
   "outputs": [],
   "source": [],
   "metadata": {
    "collapsed": false
   }
  },
  {
   "cell_type": "code",
   "execution_count": 85,
   "outputs": [],
   "source": [
    "from llama_index.core.question_gen import LLMQuestionGenerator\n",
    "from llama_index.core.question_gen.prompts import DEFAULT_SUB_QUESTION_PROMPT_TMPL\n",
    "\n",
    "question_gen = LLMQuestionGenerator.from_defaults(llm=llm,\n",
    "                                                  prompt_template_str=\"\"\"\n",
    "        Follow the example, but instead of giving a question, always prefix the question\n",
    "        with: 'By first identifying and quoting the most relevant sources, '.\n",
    "        \"\"\" + DEFAULT_SUB_QUESTION_PROMPT_TMPL)"
   ],
   "metadata": {
    "collapsed": false
   }
  },
  {
   "cell_type": "code",
   "execution_count": 86,
   "outputs": [],
   "source": [
    "from llama_index.core import VectorStoreIndex\n",
    "from llama_index.core.query_engine import SubQuestionQueryEngine\n",
    "from llama_index.core.tools import QueryEngineTool,ToolMetadata"
   ],
   "metadata": {
    "collapsed": false
   }
  },
  {
   "cell_type": "code",
   "execution_count": 87,
   "outputs": [],
   "source": [
    "index = VectorStoreIndex(nodes=docs_nodes)\n",
    "engine = index.as_query_engine(similarity_top_k=10, llm=OpenAI(model=\"gpt-4\"))"
   ],
   "metadata": {
    "collapsed": false
   }
  },
  {
   "cell_type": "code",
   "execution_count": 88,
   "outputs": [],
   "source": [
    "final_engine = SubQuestionQueryEngine.from_defaults(\n",
    "    query_engine_tools=[\n",
    "        QueryEngineTool(query_engine=engine,metadata=ToolMetadata(name='ml_documents',description='introduction to machine learning'))],question_gen=question_gen,use_async=True\n",
    ")"
   ],
   "metadata": {
    "collapsed": false
   }
  },
  {
   "cell_type": "code",
   "execution_count": 89,
   "outputs": [
    {
     "name": "stdout",
     "output_type": "stream",
     "text": [
      "Generated 2 sub questions.\n",
      "\u001B[1;3;38;2;237;90;200m[ml_documents] Q: By first identifying and quoting the most relevant sources, What classification examples were used in the 'introduction to machine learning' document\n",
      "\u001B[0m\u001B[1;3;38;2;90;149;237m[ml_documents] Q: By first identifying and quoting the most relevant sources, What regression examples were used in the 'introduction to machine learning' document\n",
      "\u001B[0m\u001B[1;3;38;2;90;149;237m[ml_documents] A: The document provides two examples of regression. The first example is about predicting a person's annual income based on their education, age, and where they live. The second example is related to the basic linear regression equation, where the outcome is predicted based on the features of the data.\n",
      "\u001B[0m\u001B[1;3;38;2;237;90;200m[ml_documents] A: The document provides several examples of classification tasks. One example is identifying the zip code from handwritten digits on an envelope, where the input is a scan of the handwriting and the output is the actual digits in the zip code. Another example is determining whether a tumor is benign based on a medical image, with the input being the image and the output being whether the tumor is benign or not. The document also mentions binary classification, such as email spam identification, and multiclass classification, like predicting the language of a website from its text.\n",
      "\u001B[0m{\n",
      "    \"classification_examples\": [\n",
      "        \"Identifying zip code from handwritten digits on an envelope\",\n",
      "        \"Determining whether a tumor is benign based on a medical image\",\n",
      "        \"Email spam identification\",\n",
      "        \"Predicting the language of a website from its text\"\n",
      "    ],\n",
      "    \"regression_examples\": [\n",
      "        \"Predicting a person's annual income based on education, age, and location\",\n",
      "        \"Basic linear regression equation for outcome prediction based on data features\"\n",
      "    ]\n",
      "}\n"
     ]
    }
   ],
   "source": [
    "response = final_engine.query(\n",
    "    \"\"\"\n",
    "    What classification and regression examples were used? Give your answer as a JSON.\n",
    "    \"\"\"\n",
    ")\n",
    "print(response.response)"
   ],
   "metadata": {
    "collapsed": false
   }
  }
 ],
 "metadata": {
  "kernelspec": {
   "display_name": "Python 3",
   "language": "python",
   "name": "python3"
  },
  "language_info": {
   "codemirror_mode": {
    "name": "ipython",
    "version": 2
   },
   "file_extension": ".py",
   "mimetype": "text/x-python",
   "name": "python",
   "nbconvert_exporter": "python",
   "pygments_lexer": "ipython2",
   "version": "2.7.6"
  }
 },
 "nbformat": 4,
 "nbformat_minor": 0
}
