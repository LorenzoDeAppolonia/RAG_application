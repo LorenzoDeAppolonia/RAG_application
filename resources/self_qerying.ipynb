{
 "cells": [
  {
   "cell_type": "markdown",
   "source": [
    "# Instantiate retriever"
   ],
   "metadata": {
    "collapsed": false
   },
   "id": "9384c00990caf49d"
  },
  {
   "cell_type": "code",
   "outputs": [],
   "source": [
    "from langchain.chains.query_constructor.base import AttributeInfo\n",
    "from langchain.retrievers.self_query.base import SelfQueryRetriever\n",
    "from langchain_openai import ChatOpenAI\n",
    "import os\n",
    "from pinecone import Pinecone \n",
    "from langchain_openai.embeddings import OpenAIEmbeddings\n",
    "from langchain_pinecone import PineconeVectorStore\n",
    "\n",
    "import pinecone\n",
    "from playground_secret_key import PINECONE_KEY\n",
    "\n",
    "from playground_secret_key import SECRET_KEY\n",
    "from langchain.schema import (SystemMessage, HumanMessage, AIMessage)\n",
    "from langchain_openai import ChatOpenAI\n",
    "\n",
    "\n",
    "os.environ['PINECONE_API_KEY'] = PINECONE_KEY\n",
    "environment = os.environ.get('PINECONE_ENVIRONMENT')\n",
    "os.environ['OPENAI_API_KEY'] = SECRET_KEY\n"
   ],
   "metadata": {
    "collapsed": false,
    "ExecuteTime": {
     "end_time": "2024-03-10T19:18:43.595878Z",
     "start_time": "2024-03-10T19:18:41.958345Z"
    }
   },
   "id": "474dbedb6d2c3c25",
   "execution_count": 1
  },
  {
   "cell_type": "code",
   "outputs": [
    {
     "ename": "ValueError",
     "evalue": "Self query retriever with Vector Store type <class 'langchain_pinecone.vectorstores.PineconeVectorStore'> not supported.",
     "output_type": "error",
     "traceback": [
      "\u001B[0;31m---------------------------------------------------------------------------\u001B[0m",
      "\u001B[0;31mValueError\u001B[0m                                Traceback (most recent call last)",
      "Cell \u001B[0;32mIn[2], line 57\u001B[0m\n\u001B[1;32m     55\u001B[0m document_content_description \u001B[38;5;241m=\u001B[39m \u001B[38;5;124m\"\u001B[39m\u001B[38;5;124mA chunk of text extracted from a document\u001B[39m\u001B[38;5;124m\"\u001B[39m\n\u001B[1;32m     56\u001B[0m llm \u001B[38;5;241m=\u001B[39m ChatOpenAI(temperature\u001B[38;5;241m=\u001B[39m\u001B[38;5;241m0\u001B[39m)\n\u001B[0;32m---> 57\u001B[0m retriever \u001B[38;5;241m=\u001B[39m \u001B[43mSelfQueryRetriever\u001B[49m\u001B[38;5;241;43m.\u001B[39;49m\u001B[43mfrom_llm\u001B[49m\u001B[43m(\u001B[49m\n\u001B[1;32m     58\u001B[0m \u001B[43m    \u001B[49m\u001B[43mllm\u001B[49m\u001B[43m,\u001B[49m\n\u001B[1;32m     59\u001B[0m \u001B[43m    \u001B[49m\u001B[43mvectorstore\u001B[49m\u001B[43m,\u001B[49m\n\u001B[1;32m     60\u001B[0m \u001B[43m    \u001B[49m\u001B[43mdocument_content_description\u001B[49m\u001B[43m,\u001B[49m\n\u001B[1;32m     61\u001B[0m \u001B[43m    \u001B[49m\u001B[43mmetadata_field_info\u001B[49m\u001B[43m,\u001B[49m\n\u001B[1;32m     62\u001B[0m \u001B[43m)\u001B[49m\n",
      "File \u001B[0;32m~/.local/share/virtualenvs/RAG_experimentation-cs5J6qKA/lib/python3.11/site-packages/langchain/retrievers/self_query/base.py:224\u001B[0m, in \u001B[0;36mSelfQueryRetriever.from_llm\u001B[0;34m(cls, llm, vectorstore, document_contents, metadata_field_info, structured_query_translator, chain_kwargs, enable_limit, use_original_query, **kwargs)\u001B[0m\n\u001B[1;32m    210\u001B[0m \u001B[38;5;129m@classmethod\u001B[39m\n\u001B[1;32m    211\u001B[0m \u001B[38;5;28;01mdef\u001B[39;00m \u001B[38;5;21mfrom_llm\u001B[39m(\n\u001B[1;32m    212\u001B[0m     \u001B[38;5;28mcls\u001B[39m,\n\u001B[0;32m   (...)\u001B[0m\n\u001B[1;32m    221\u001B[0m     \u001B[38;5;241m*\u001B[39m\u001B[38;5;241m*\u001B[39mkwargs: Any,\n\u001B[1;32m    222\u001B[0m ) \u001B[38;5;241m-\u001B[39m\u001B[38;5;241m>\u001B[39m \u001B[38;5;124m\"\u001B[39m\u001B[38;5;124mSelfQueryRetriever\u001B[39m\u001B[38;5;124m\"\u001B[39m:\n\u001B[1;32m    223\u001B[0m     \u001B[38;5;28;01mif\u001B[39;00m structured_query_translator \u001B[38;5;129;01mis\u001B[39;00m \u001B[38;5;28;01mNone\u001B[39;00m:\n\u001B[0;32m--> 224\u001B[0m         structured_query_translator \u001B[38;5;241m=\u001B[39m \u001B[43m_get_builtin_translator\u001B[49m\u001B[43m(\u001B[49m\u001B[43mvectorstore\u001B[49m\u001B[43m)\u001B[49m\n\u001B[1;32m    225\u001B[0m     chain_kwargs \u001B[38;5;241m=\u001B[39m chain_kwargs \u001B[38;5;129;01mor\u001B[39;00m {}\n\u001B[1;32m    227\u001B[0m     \u001B[38;5;28;01mif\u001B[39;00m (\n\u001B[1;32m    228\u001B[0m         \u001B[38;5;124m\"\u001B[39m\u001B[38;5;124mallowed_comparators\u001B[39m\u001B[38;5;124m\"\u001B[39m \u001B[38;5;129;01mnot\u001B[39;00m \u001B[38;5;129;01min\u001B[39;00m chain_kwargs\n\u001B[1;32m    229\u001B[0m         \u001B[38;5;129;01mand\u001B[39;00m structured_query_translator\u001B[38;5;241m.\u001B[39mallowed_comparators \u001B[38;5;129;01mis\u001B[39;00m \u001B[38;5;129;01mnot\u001B[39;00m \u001B[38;5;28;01mNone\u001B[39;00m\n\u001B[1;32m    230\u001B[0m     ):\n",
      "File \u001B[0;32m~/.local/share/virtualenvs/RAG_experimentation-cs5J6qKA/lib/python3.11/site-packages/langchain/retrievers/self_query/base.py:98\u001B[0m, in \u001B[0;36m_get_builtin_translator\u001B[0;34m(vectorstore)\u001B[0m\n\u001B[1;32m     95\u001B[0m \u001B[38;5;28;01mexcept\u001B[39;00m \u001B[38;5;167;01mImportError\u001B[39;00m:\n\u001B[1;32m     96\u001B[0m     \u001B[38;5;28;01mpass\u001B[39;00m\n\u001B[0;32m---> 98\u001B[0m \u001B[38;5;28;01mraise\u001B[39;00m \u001B[38;5;167;01mValueError\u001B[39;00m(\n\u001B[1;32m     99\u001B[0m     \u001B[38;5;124mf\u001B[39m\u001B[38;5;124m\"\u001B[39m\u001B[38;5;124mSelf query retriever with Vector Store type \u001B[39m\u001B[38;5;132;01m{\u001B[39;00mvectorstore\u001B[38;5;241m.\u001B[39m\u001B[38;5;18m__class__\u001B[39m\u001B[38;5;132;01m}\u001B[39;00m\u001B[38;5;124m\"\u001B[39m\n\u001B[1;32m    100\u001B[0m     \u001B[38;5;124mf\u001B[39m\u001B[38;5;124m\"\u001B[39m\u001B[38;5;124m not supported.\u001B[39m\u001B[38;5;124m\"\u001B[39m\n\u001B[1;32m    101\u001B[0m )\n",
      "\u001B[0;31mValueError\u001B[0m: Self query retriever with Vector Store type <class 'langchain_pinecone.vectorstores.PineconeVectorStore'> not supported."
     ]
    }
   ],
   "source": [
    "metadata_field_info = [\n",
    "    AttributeInfo(\n",
    "        name=\"creation_date\",\n",
    "        description=\"The date of creation of the file. Written in the format yyyy-mm-dd\",\n",
    "        type=\"string\",\n",
    "    ),\n",
    "    AttributeInfo(\n",
    "        name=\"excerpt_keywords\",\n",
    "        description=\"Set of keywords representing the content of the text\",\n",
    "        type=\"string\",\n",
    "    ),\n",
    "    AttributeInfo(\n",
    "        name=\"file_name\",\n",
    "        description=\"The name of the file from which the chunk of text was extracted\",\n",
    "        type=\"string\",\n",
    "    ),\n",
    "    AttributeInfo(\n",
    "        name=\"file_path\",\n",
    "        description=\"The path of the file from which the chunk of text was extracted\",\n",
    "        type=\"string\",\n",
    "    ),\n",
    "    AttributeInfo(\n",
    "        name=\"file_size\",\n",
    "        description=\"The size of the file\",\n",
    "        type=\"string\",\n",
    "    ),\n",
    "    AttributeInfo(\n",
    "        name=\"file_type\",\n",
    "        description=\"The format of the file from which the chunk of text comes\",\n",
    "        type=\"string\",\n",
    "    ),    \n",
    "    \n",
    "    AttributeInfo(\n",
    "        name=\"last_modified_date\",\n",
    "        description=\"The last modification date of the file\",\n",
    "        type=\"string\",\n",
    "    ),    \n",
    "    AttributeInfo(\n",
    "        name=\"page_label\",\n",
    "        description=\"The page from which the chunk of text was extracted\",\n",
    "        type=\"string\",\n",
    "    ),    \n",
    "    \n",
    "    AttributeInfo(\n",
    "        name=\"text\",\n",
    "        description=\"The chunk of text\",\n",
    "        type=\"string\",\n",
    "    ),    \n",
    "    \n",
    "\n",
    "]\n",
    "embed_model = OpenAIEmbeddings(model='text-embedding-ada-002')\n",
    "vectorstore = PineconeVectorStore.from_documents([],embed_model,index_name='rag')\n",
    "\n",
    "document_content_description = \"A chunk of text extracted from a document\"\n",
    "llm = ChatOpenAI(temperature=0)\n",
    "retriever = SelfQueryRetriever.from_llm(\n",
    "    llm,\n",
    "    vectorstore,\n",
    "    document_content_description,\n",
    "    metadata_field_info,\n",
    ")\n",
    "\n",
    "\n"
   ],
   "metadata": {
    "collapsed": false,
    "ExecuteTime": {
     "end_time": "2024-03-10T19:18:45.736708Z",
     "start_time": "2024-03-10T19:18:44.476819Z"
    }
   },
   "id": "42cc40ecb45c905",
   "execution_count": 2
  },
  {
   "cell_type": "code",
   "outputs": [],
   "source": [],
   "metadata": {
    "collapsed": false,
    "ExecuteTime": {
     "start_time": "2024-03-10T19:15:18.912344Z"
    }
   },
   "id": "5118ef5234fcbe88"
  }
 ],
 "metadata": {
  "kernelspec": {
   "display_name": "Python 3",
   "language": "python",
   "name": "python3"
  },
  "language_info": {
   "codemirror_mode": {
    "name": "ipython",
    "version": 2
   },
   "file_extension": ".py",
   "mimetype": "text/x-python",
   "name": "python",
   "nbconvert_exporter": "python",
   "pygments_lexer": "ipython2",
   "version": "2.7.6"
  }
 },
 "nbformat": 4,
 "nbformat_minor": 5
}
