{
 "cells": [
  {
   "cell_type": "code",
   "execution_count": null,
   "id": "initial_id",
   "metadata": {
    "collapsed": true
   },
   "outputs": [],
   "source": [
    "from langchain_openai.embeddings import OpenAIEmbeddings\n",
    "import os\n",
    "import sys\n",
    "from pinecone import Pinecone\n",
    "from resources.playground_secret_key import PINECONE_KEY_2, SECRET_KEY\n",
    "from typing import List\n",
    "from llama_index.llms.openai import OpenAI\n",
    "from llama_index.core.extractors import KeywordExtractor, QuestionsAnsweredExtractor\n",
    "from llama_index.core.node_parser import TokenTextSplitter\n",
    "from llama_index.core import SimpleDirectoryReader\n",
    "from llama_index.core.ingestion import IngestionPipeline\n",
    "\n",
    "\n",
    "os.environ['PINECONE_API_KEY'] = PINECONE_KEY_2\n",
    "environment = os.environ.get('PINECONE_ENVIRONMENT')\n",
    "os.environ['OPENAI_API_KEY'] = SECRET_KEY"
   ]
  },
  {
   "cell_type": "code",
   "outputs": [],
   "source": [
    "directory='../data/00_materiale_di_partenza'\n",
    "docs = SimpleDirectoryReader(input_dir=directory, recursive=True).load_data()\n"
   ],
   "metadata": {
    "collapsed": false
   },
   "id": "22eb031c1b4e1a4b"
  },
  {
   "cell_type": "code",
   "outputs": [],
   "source": [
    "index = Pinecone().Index('rag')\n",
    "embed_model = OpenAIEmbeddings(model='text-embedding-3-large', dimensions=256)"
   ],
   "metadata": {
    "collapsed": false
   },
   "id": "463d77c715f01cc2"
  }
 ],
 "metadata": {
  "kernelspec": {
   "display_name": "Python 3",
   "language": "python",
   "name": "python3"
  },
  "language_info": {
   "codemirror_mode": {
    "name": "ipython",
    "version": 2
   },
   "file_extension": ".py",
   "mimetype": "text/x-python",
   "name": "python",
   "nbconvert_exporter": "python",
   "pygments_lexer": "ipython2",
   "version": "2.7.6"
  }
 },
 "nbformat": 4,
 "nbformat_minor": 5
}
