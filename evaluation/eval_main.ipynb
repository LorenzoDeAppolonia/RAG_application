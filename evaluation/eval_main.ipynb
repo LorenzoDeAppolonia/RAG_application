{
 "cells": [
  {
   "cell_type": "code",
   "execution_count": 1,
   "metadata": {
    "collapsed": true
   },
   "outputs": [],
   "source": [
    "import pandas as pd"
   ]
  },
  {
   "cell_type": "code",
   "execution_count": 2,
   "outputs": [],
   "source": [
    "df = pd.read_csv('evaluation.csv')"
   ],
   "metadata": {
    "collapsed": false
   }
  },
  {
   "cell_type": "code",
   "execution_count": 9,
   "outputs": [
    {
     "name": "stdout",
     "output_type": "stream",
     "text": [
      "è presente tra la documentazione la verifica del rispetto dei franchi idraulici?\n"
     ]
    }
   ],
   "source": [
    "row = df.iloc[2]\n",
    "\n",
    "print(row['input'])"
   ],
   "metadata": {
    "collapsed": false
   }
  },
  {
   "cell_type": "code",
   "execution_count": 10,
   "outputs": [
    {
     "name": "stdout",
     "output_type": "stream",
     "text": [
      "no\n"
     ]
    }
   ],
   "source": [
    "print(row['expected_output'])"
   ],
   "metadata": {
    "collapsed": false
   }
  },
  {
   "cell_type": "code",
   "execution_count": 11,
   "outputs": [
    {
     "name": "stdout",
     "output_type": "stream",
     "text": [
      "Sì, nella documentazione è presente la verifica del rispetto dei franchi idraulici. Viene menzionato che il franco idraulico rappresenta l'altezza verticale aggiuntiva da considerare in fase di dimensionamento della sezione di deflusso rispetto al livello idrico corrispondente alla portata di progetto. Inoltre, vengono forniti dettagli sul valore del franco idraulico di riferimento per le opere di attraversamento trasversale di corsi d’acqua e sul fatto che i requisiti dimensionali del franco idraulico sono stati inseriti nelle normative relative alla progettazione, realizzazione e manutenzione delle infrastrutture idrauliche. Infine, vengono specificati i criteri da seguire per garantire il corretto funzionamento e il livello naturale dei corsi d’acqua in relazione al franco idraulico.\n",
      "        \n",
      "<context>\n",
      "{'file_name': 'Studio di Compatibilità Idraulica GILIACQUAS FUTURA.pdf', 'file_path': 'C:\\\\Users\\\\cribr\\\\OneDrive\\\\Desktop\\\\other\\\\rag_proj\\\\data\\\\00_materiale_di_partenza\\\\PROGETTO DEFINITIVO\\\\02_Compatibilità idraulica\\\\Studio di Compatibilità Idraulica GILIACQUAS FUTURA.pdf', 'page': '55, 56'}\n",
      "</context>\n"
     ]
    }
   ],
   "source": [
    "print(row['actual_output'])"
   ],
   "metadata": {
    "collapsed": false
   }
  }
 ],
 "metadata": {
  "kernelspec": {
   "display_name": "Python 3",
   "language": "python",
   "name": "python3"
  },
  "language_info": {
   "codemirror_mode": {
    "name": "ipython",
    "version": 2
   },
   "file_extension": ".py",
   "mimetype": "text/x-python",
   "name": "python",
   "nbconvert_exporter": "python",
   "pygments_lexer": "ipython2",
   "version": "2.7.6"
  }
 },
 "nbformat": 4,
 "nbformat_minor": 0
}
